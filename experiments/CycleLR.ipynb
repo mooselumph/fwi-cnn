{
 "cells": [
  {
   "cell_type": "code",
   "execution_count": 6,
   "metadata": {},
   "outputs": [
    {
     "name": "stdout",
     "output_type": "stream",
     "text": [
      "/home/raynor/code/fwi-cnn\n"
     ]
    }
   ],
   "source": [
    "%cd ../"
   ]
  },
  {
   "cell_type": "code",
   "execution_count": 10,
   "metadata": {},
   "outputs": [
    {
     "name": "stderr",
     "output_type": "stream",
     "text": [
      "INFO: Network:\n",
      "\t1 input channels\n",
      "\n",
      "INFO: Starting training:\n",
      "        Epochs:          5\n",
      "        Batch size:      50\n",
      "        Learning rate:   0.1\n",
      "        Training size:   100000\n",
      "        Validation size: 10\n",
      "        Device:          cuda\n",
      "    \n",
      "Epoch 1/5:   1%|          | 16/2000.0 [00:02<05:41,  5.81img/s, loss (batch)=0.694]\n"
     ]
    },
    {
     "name": "stdout",
     "output_type": "stream",
     "text": [
      "Saved interrupt\n"
     ]
    }
   ],
   "source": [
    "import numpy as np\n",
    "import matplotlib.pyplot as plt\n",
    "import torch\n",
    "\n",
    "from train_callbacks import train_net, TBWriter, TrainState, Callback\n",
    "\n",
    "from models.vanilla_cnn import VanillaNet\n",
    "from forward.simple_model import SimpleLayerDataset, SimpleLayerProblem, SimpleLayerModel\n",
    "\n",
    "\n",
    "# Create Model and Dataset\n",
    "\n",
    "model = SimpleLayerModel([],[],source_pos = [75],detector_pos=np.arange(0,3200,100),\n",
    "                     sample_period=0.01,duration=512*0.01,pulse_width=0.02)\n",
    "\n",
    "problem = SimpleLayerProblem(model,n_samples=256,interval=10,thickness=500,speed=(200,500))\n",
    "\n",
    "train_dataset = SimpleLayerDataset(problem,n_samples=100000)\n",
    "val_dataset = SimpleLayerDataset(problem,n_samples=10)\n",
    "\n",
    "# Intialize Net\n",
    "net = VanillaNet(1)\n",
    "\n",
    "# Set up\n",
    "\n",
    "class CyclicScheduler(Callback):\n",
    "    def __init__(self,optimizer,base_lr=0.001,max_lr=0.1):\n",
    "        self.scheduler = torch.optim.lr_scheduler.CyclicLR(optimizer, base_lr, max_lr)\n",
    "    def on_batch_end(self,s):\n",
    "        self.scheduler.step()\n",
    "\n",
    "optimizer = torch.optim.SGD(net.parameters(), lr=0.1, momentum=0.9)\n",
    "\n",
    "tbw = TBWriter()\n",
    "sched = CyclicScheduler(optimizer)\n",
    "\n",
    "\n",
    "# Train\n",
    "\n",
    "state = TrainState(\n",
    "    net,\n",
    "    train_dataset,\n",
    "    val_dataset,\n",
    "    optimizer=optimizer,\n",
    "    batch_size = 50,\n",
    "    )\n",
    "\n",
    "try:\n",
    "    train_net(\n",
    "        state,\n",
    "        [tbw,sched]\n",
    "             )\n",
    "\n",
    "except KeyboardInterrupt:\n",
    "    torch.save(net.state_dict(), 'saved/INTERRUPTED.pth')\n",
    "    print('Saved interrupt')"
   ]
  },
  {
   "cell_type": "code",
   "execution_count": null,
   "metadata": {},
   "outputs": [],
   "source": []
  }
 ],
 "metadata": {
  "kernelspec": {
   "display_name": "Python 3",
   "language": "python",
   "name": "python3"
  },
  "language_info": {
   "codemirror_mode": {
    "name": "ipython",
    "version": 3
   },
   "file_extension": ".py",
   "mimetype": "text/x-python",
   "name": "python",
   "nbconvert_exporter": "python",
   "pygments_lexer": "ipython3",
   "version": "3.6.8"
  }
 },
 "nbformat": 4,
 "nbformat_minor": 4
}
