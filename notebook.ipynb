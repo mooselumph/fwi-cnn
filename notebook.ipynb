{
 "cells": [
  {
   "cell_type": "code",
   "execution_count": 1,
   "metadata": {},
   "outputs": [],
   "source": [
    "import numpy as np\n",
    "import matplotlib.pyplot as plt"
   ]
  },
  {
   "cell_type": "code",
   "execution_count": 2,
   "metadata": {},
   "outputs": [],
   "source": [
    "from forward.simple_model import SimpleLayerDataset, SimpleLayerProblem, SimpleLayerModel\n",
    "\n",
    "model = SimpleLayerModel([],[],source_pos = [75],detector_pos=np.arange(0,2500,10),\n",
    "                     sample_period=0.01,duration=[],pulse_width=0.02)\n",
    "\n",
    "problem = SimpleLayerProblem(model,n_samples=100,interval=5,thickness=100,speed=(1000,3000))\n",
    "\n",
    "train_dataset = SimpleLayerDataset(problem,n_samples=1000)\n",
    "val_dataset = SimpleLayerDataset(problem,n_samples=100)\n"
   ]
  },
  {
   "cell_type": "code",
   "execution_count": 3,
   "metadata": {},
   "outputs": [],
   "source": [
    "from forward.simple_model import SimpleLayerDataset, SimpleLayerProblem, SimpleLayerModel\n",
    "\n",
    "model = SimpleLayerModel([],[],source_pos = [75],detector_pos=np.arange(0,3200,100),\n",
    "                     sample_period=0.01,duration=512*0.01,pulse_width=0.02)\n",
    "\n",
    "problem = SimpleLayerProblem(model,n_samples=256,interval=10,thickness=500,speed=(200,500))\n",
    "\n",
    "train_dataset = SimpleLayerDataset(problem,n_samples=1000)\n",
    "val_dataset = SimpleLayerDataset(problem,n_samples=100)"
   ]
  },
  {
   "cell_type": "code",
   "execution_count": null,
   "metadata": {},
   "outputs": [],
   "source": [
    "import importlib\n",
    "importlib.reload(some_module)"
   ]
  },
  {
   "cell_type": "code",
   "execution_count": 4,
   "metadata": {},
   "outputs": [
    {
     "name": "stdout",
     "output_type": "stream",
     "text": [
      "(512, 32, 1)\n",
      "(256,)\n"
     ]
    }
   ],
   "source": [
    "amp,speed = problem.generate_pair()\n",
    "print(amp.shape)\n",
    "print(speed.shape)"
   ]
  },
  {
   "cell_type": "code",
   "execution_count": null,
   "metadata": {},
   "outputs": [
    {
     "name": "stderr",
     "output_type": "stream",
     "text": [
      "INFO: Using device cpu\n",
      "INFO: Network:\n",
      "\t1 input channels\n",
      "\n",
      "INFO: Starting training:\n",
      "        Epochs:          5\n",
      "        Batch size:      2\n",
      "        Learning rate:   0.1\n",
      "        Training size:   1000\n",
      "        Validation size: 100\n",
      "        Checkpoints:     True\n",
      "        Device:          cpu\n",
      "    \n"
     ]
    },
    {
     "data": {
      "application/vnd.jupyter.widget-view+json": {
       "model_id": "cb9a79cae82342378aa7d5009aee47c2",
       "version_major": 2,
       "version_minor": 0
      },
      "text/plain": [
       "HBox(children=(IntProgress(value=0, description='Epoch 1/5', max=500, style=ProgressStyle(description_width='i…"
      ]
     },
     "metadata": {},
     "output_type": "display_data"
    }
   ],
   "source": [
    "from models.vanilla_cnn import VanillaNet\n",
    "from train import train_net\n",
    "import torch\n",
    "import logging\n",
    "\n",
    "load = ''\n",
    "\n",
    "logging.basicConfig(level=logging.INFO, format='%(levelname)s: %(message)s')\n",
    "\n",
    "device = torch.device('cuda' if torch.cuda.is_available() else 'cpu')\n",
    "logging.info(f'Using device {device}')\n",
    "\n",
    "# n_channels = number of shots\n",
    "net = VanillaNet(1)\n",
    "\n",
    "logging.info(f'Network:\\n'\n",
    "             f'\\t{net.n_channels} input channels\\n')\n",
    "\n",
    "if load:\n",
    "    net.load_state_dict(\n",
    "        torch.load(load, map_location=device)\n",
    "    )\n",
    "    logging.info(f'Model loaded from {load}')\n",
    "\n",
    "net.to(device=device)\n",
    "# faster convolutions, but more memory\n",
    "# cudnn.benchmark = True\n",
    "\n",
    "try:\n",
    "    train_net(net,\n",
    "              train_dataset,\n",
    "              val_dataset,\n",
    "              device,\n",
    "              batch_size=2\n",
    "             )\n",
    "\n",
    "except KeyboardInterrupt:\n",
    "    torch.save(net.state_dict(), 'INTERRUPTED.pth')\n",
    "    logging.info('Saved interrupt')"
   ]
  },
  {
   "cell_type": "code",
   "execution_count": 9,
   "metadata": {},
   "outputs": [],
   "source": [
    "item = next(iter(train_dataset))\n",
    "a = item['amplitudes']\n",
    "s = item['speeds']"
   ]
  },
  {
   "cell_type": "code",
   "execution_count": 10,
   "metadata": {},
   "outputs": [
    {
     "data": {
      "text/plain": [
       "<matplotlib.image.AxesImage at 0x7fc1281f1310>"
      ]
     },
     "execution_count": 10,
     "metadata": {},
     "output_type": "execute_result"
    },
    {
     "data": {
      "image/png": "[encoded data removed]",
      "text/plain": [
       "<Figure size 432x288 with 1 Axes>"
      ]
     },
     "metadata": {},
     "output_type": "display_data"
    }
   ],
   "source": [
    "%matplotlib inline\n",
    "plt.figure()\n",
    "plt.imshow(a.squeeze())"
   ]
  },
  {
   "cell_type": "code",
   "execution_count": 12,
   "metadata": {},
   "outputs": [],
   "source": [
    "speeds_pred = net(a.unsqueeze(0).float())\n",
    "s_pred = speeds_pred.detach().cpu().numpy().squeeze()"
   ]
  },
  {
   "cell_type": "code",
   "execution_count": 13,
   "metadata": {},
   "outputs": [
    {
     "data": {
      "text/plain": [
       "[<matplotlib.lines.Line2D at 0x7fc1281e5550>]"
      ]
     },
     "execution_count": 13,
     "metadata": {},
     "output_type": "execute_result"
    },
    {
     "data": {
      "image/png": "[encoded data removed]",
      "text/plain": [
       "<Figure size 432x288 with 1 Axes>"
      ]
     },
     "metadata": {},
     "output_type": "display_data"
    }
   ],
   "source": [
    "plt.figure()\n",
    "plt.plot(s)\n",
    "plt.plot(s_pred)"
   ]
  },
  {
   "cell_type": "code",
   "execution_count": null,
   "metadata": {},
   "outputs": [],
   "source": []
  }
 ],
 "metadata": {
  "kernelspec": {
   "display_name": "Python 3 (Spyder)",
   "language": "python3",
   "name": "python3"
  },
  "language_info": {
   "codemirror_mode": {
    "name": "ipython",
    "version": 3
   },
   "file_extension": ".py",
   "mimetype": "text/x-python",
   "name": "python",
   "nbconvert_exporter": "python",
   "pygments_lexer": "ipython3",
   "version": "3.7.4"
  },
  "varInspector": {
   "cols": {
    "lenName": 16,
    "lenType": 16,
    "lenVar": 40
   },
   "kernels_config": {
    "python": {
     "delete_cmd_postfix": "",
     "delete_cmd_prefix": "del ",
     "library": "var_list.py",
     "varRefreshCmd": "print(var_dic_list())"
    },
    "r": {
     "delete_cmd_postfix": ") ",
     "delete_cmd_prefix": "rm(",
     "library": "var_list.r",
     "varRefreshCmd": "cat(var_dic_list()) "
    }
   },
   "types_to_exclude": [
    "module",
    "function",
    "builtin_function_or_method",
    "instance",
    "_Feature"
   ],
   "window_display": false
  }
 },
 "nbformat": 4,
 "nbformat_minor": 4
}
